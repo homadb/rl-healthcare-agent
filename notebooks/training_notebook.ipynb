{
 "cells": [
  {
   "cell_type": "markdown",
   "id": "ade87021",
   "metadata": {},
   "source": [
    "# 🧠 Training PPO on DiabetesEnv (Simulated Healthcare RL)\n",
    "Let's train a reinforcement learning agent to recommend treatments for a simulated diabetic patient using PPO!"
   ]
  },
  {
   "cell_type": "code",
   "execution_count": null,
   "id": "cd77979b",
   "metadata": {},
   "outputs": [],
   "source": [
    "# 📦 Install dependencies (Colab only)\n",
    "!pip install stable-baselines3 gymnasium wandb"
   ]
  },
  {
   "cell_type": "code",
   "execution_count": null,
   "id": "90af2169",
   "metadata": {},
   "outputs": [],
   "source": [
    "# 🔁 Import libraries\n",
    "import gym\n",
    "import numpy as np\n",
    "from stable_baselines3 import PPO\n",
    "from stable_baselines3.common.env_checker import check_env\n",
    "from gym.envs.registration import register\n",
    "from env.diabetes_env import DiabetesEnv"
   ]
  },
  {
   "cell_type": "code",
   "execution_count": null,
   "id": "3dcd4fd8",
   "metadata": {},
   "outputs": [],
   "source": [
    "# ✅ Register the environment with Gym (optional)\n",
    "register(\n",
    "    id='DiabetesEnv-v0',\n",
    "    entry_point='env.diabetes_env:DiabetesEnv',\n",
    ")\n",
    "\n",
    "env = DiabetesEnv()\n",
    "check_env(env)  # Check if environment follows Gym interface"
   ]
  },
  {
   "cell_type": "code",
   "execution_count": null,
   "id": "21a1d95d",
   "metadata": {},
   "outputs": [],
   "source": [
    "# 🎯 Train PPO agent\n",
    "model = PPO(\"MlpPolicy\", env, verbose=1)\n",
    "model.learn(total_timesteps=10000)\n",
    "\n",
    "# 💾 Save model\n",
    "model.save(\"ppo_diabetes\")"
   ]
  },
  {
   "cell_type": "code",
   "execution_count": null,
   "id": "fdab34c3",
   "metadata": {},
   "outputs": [],
   "source": [
    "# ▶️ Test the trained agent\n",
    "obs = env.reset()\n",
    "for _ in range(30):\n",
    "    action, _states = model.predict(obs, deterministic=True)\n",
    "    obs, reward, done, info = env.step(action)\n",
    "    env.render()\n",
    "    if done:\n",
    "        break"
   ]
  }
 ],
 "metadata": {
  "language_info": {
   "name": "python"
  }
 },
 "nbformat": 4,
 "nbformat_minor": 5
}
