{
 "cells": [
  {
   "cell_type": "markdown",
   "metadata": {},
   "source": [
    "# 🧠 Training PPO on DiabetesEnv (Simulated Healthcare RL)
",
    "Let's train a reinforcement learning agent to recommend treatments for a simulated diabetic patient using PPO!"
   ]
  },
  {
   "cell_type": "code",
   "execution_count": null,
   "metadata": {},
   "outputs": [],
   "source": [
    "# 📦 Install dependencies
",
    "!pip install stable-baselines3 gymnasium wandb"
   ]
  },
  {
   "cell_type": "code",
   "execution_count": null,
   "metadata": {},
   "outputs": [],
   "source": [
    "# 🔁 Import libraries
",
    "import gym
",
    "import numpy as np
",
    "from stable_baselines3 import PPO
",
    "from stable_baselines3.common.env_checker import check_env
",
    "from gym import register
",
    "import sys
",
    "sys.path.append('./env')  # Adjust path if needed
",
    "from diabetes_env import DiabetesEnv"
   ]
  },
  {
   "cell_type": "code",
   "execution_count": null,
   "metadata": {},
   "outputs": [],
   "source": [
    "# ✅ Register the environment with Gym
",
    "register(
",
    "    id='DiabetesEnv-v0',
",
    "    entry_point='diabetes_env:DiabetesEnv',
",
    ")
",
    "
",
    "env = DiabetesEnv()
",
    "check_env(env)  # Check if environment follows Gym interface"
   ]
  },
  {
   "cell_type": "code",
   "execution_count": null,
   "metadata": {},
   "outputs": [],
   "source": [
    "# 🎯 Train PPO agent
",
    "model = PPO("MlpPolicy", env, verbose=1)
",
    "model.learn(total_timesteps=10000)
",
    "
",
    "# 💾 Save model
",
    "model.save("ppo_diabetes")"
   ]
  },
  {
   "cell_type": "code",
   "execution_count": null,
   "metadata": {},
   "outputs": [],
   "source": [
    "# ▶️ Test the trained agent
",
    "obs = env.reset()
",
    "for _ in range(30):
",
    "    action, _states = model.predict(obs, deterministic=True)
",
    "    obs, reward, done, info = env.step(action)
",
    "    env.render()
",
    "    if done:
",
    "        break"
   ]
  }
 ],
 "metadata": {
  "kernelspec": {
   "display_name": "Python 3",
   "language": "python",
   "name": "python3"
  },
  "language_info": {
   "name": "python",
   "version": ""
  }
 },
 "nbformat": 4,
 "nbformat_minor": 5
}